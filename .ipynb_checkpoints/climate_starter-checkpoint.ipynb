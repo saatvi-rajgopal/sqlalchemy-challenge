{
 "cells": [
  {
   "cell_type": "code",
   "execution_count": 62,
   "id": "fa55f866",
   "metadata": {},
   "outputs": [],
   "source": [
    " %matplotlib inline\n",
    "from matplotlib import style\n",
    "style.use('fivethirtyeight')\n",
    "import matplotlib.pyplot as plt\n",
    "\n",
    "import numpy as np\n",
    "import pandas as pd\n",
    "\n",
    "import datetime as dt"
   ]
  },
  {
   "cell_type": "code",
   "execution_count": 63,
   "id": "c120b0f9",
   "metadata": {},
   "outputs": [],
   "source": [
    " # Python SQL toolkit and Object Relational Mapper\n",
    "    \n",
    "import sqlalchemy\n",
    "from sqlalchemy.ext.automap import automap_base\n",
    "from sqlalchemy.orm import Session\n",
    "from sqlalchemy import create_engine, func"
   ]
  },
  {
   "cell_type": "code",
   "execution_count": 65,
   "id": "d0623f41",
   "metadata": {},
   "outputs": [],
   "source": [
    " # Create engine\n",
    "    \n",
    "engine = create_engine(\"sqlite:///Resources/hawaii.sqlite\") "
   ]
  },
  {
   "cell_type": "code",
   "execution_count": 66,
   "id": "3e630548",
   "metadata": {},
   "outputs": [
    {
     "data": {
      "text/plain": [
       "['measurement', 'station']"
      ]
     },
     "execution_count": 66,
     "metadata": {},
     "output_type": "execute_result"
    }
   ],
   "source": [
    " # Reflect existing database to new model\n",
    "    \n",
    "Base = automap_base()\n",
    "# reflect the tables\n",
    "\n",
    "Base.prepare(engine, reflect=True)\n",
    "\n",
    " # View all of the classes found\n",
    "    \n",
    "Base.classes.keys()"
   ]
  },
  {
   "cell_type": "code",
   "execution_count": 67,
   "id": "c844a116",
   "metadata": {},
   "outputs": [],
   "source": [
    "# Save references\n",
    "\n",
    "Measurements = Base.classes.measurement\n",
    "Stations = Base.classes.station"
   ]
  },
  {
   "cell_type": "code",
   "execution_count": 68,
   "id": "295bb4d5",
   "metadata": {},
   "outputs": [
    {
     "data": {
      "text/plain": [
       "('2017-08-23',)"
      ]
     },
     "execution_count": 68,
     "metadata": {},
     "output_type": "execute_result"
    }
   ],
   "source": [
    " # Create our session (link) from Python to the DB\n",
    "    \n",
    "session = Session(engine)\n",
    "\n",
    "# Find the most recent date in the data set.\n",
    "\n",
    "date_mostrecent = session.query(func.max(Measurements.date)).first()\n",
    "date_mostrecent"
   ]
  },
  {
   "cell_type": "code",
   "execution_count": 69,
   "id": "0ab05903",
   "metadata": {},
   "outputs": [
    {
     "data": {
      "text/plain": [
       "Text(0, 0.5, 'Inches')"
      ]
     },
     "execution_count": 69,
     "metadata": {},
     "output_type": "execute_result"
    },
    {
     "data": {
      "image/png": "[encoded data removed]",
      "text/plain": [
       "<Figure size 432x288 with 1 Axes>"
      ]
     },
     "metadata": {},
     "output_type": "display_data"
    }
   ],
   "source": [
    "# Retrieve the last 12 months of precipitation data, plot results with Matplotlib - starting with the most recent data point\n",
    "\n",
    "\n",
    "# Calculating date one year from the last date in dataset\n",
    "\n",
    "year_previous = dt.date(2017, 8, 23) - dt.timedelta(days=365)\n",
    "\n",
    "# Perform a query to retrieve the data and precipitation scores\n",
    "\n",
    "results = session.query(Measurements.date, Measurements.prcp).filter(Measurements.date >= year_previous).all()\n",
    "\n",
    "# Save the query results as a Pandas DataFrame\n",
    "\n",
    "precip_df = pd.DataFrame(results, columns=['Date', 'Precipitation'])\n",
    "\n",
    "# Sort the dataframe by date\n",
    "\n",
    "precip_df = df.sort_values(\"Date\")\n",
    "\n",
    "# Plot data using Pandas and Matplotlib\n",
    "\n",
    "df.plot(x='Date', y='Precipitation', rot=90, color='lightblue')\n",
    "plt.xlabel(\"Date\")\n",
    "plt.ylabel(\"Inches\")"
   ]
  },
  {
   "cell_type": "code",
   "execution_count": 70,
   "id": "683f9df1",
   "metadata": {},
   "outputs": [
    {
     "data": {
      "text/html": [
       "<div>\n",
       "<style scoped>\n",
       "    .dataframe tbody tr th:only-of-type {\n",
       "        vertical-align: middle;\n",
       "    }\n",
       "\n",
       "    .dataframe tbody tr th {\n",
       "        vertical-align: top;\n",
       "    }\n",
       "\n",
       "    .dataframe thead th {\n",
       "        text-align: right;\n",
       "    }\n",
       "</style>\n",
       "<table border=\"1\" class=\"dataframe\">\n",
       "  <thead>\n",
       "    <tr style=\"text-align: right;\">\n",
       "      <th></th>\n",
       "      <th>Precipitation</th>\n",
       "    </tr>\n",
       "  </thead>\n",
       "  <tbody>\n",
       "    <tr>\n",
       "      <th>count</th>\n",
       "      <td>2021.000000</td>\n",
       "    </tr>\n",
       "    <tr>\n",
       "      <th>mean</th>\n",
       "      <td>0.177279</td>\n",
       "    </tr>\n",
       "    <tr>\n",
       "      <th>std</th>\n",
       "      <td>0.461190</td>\n",
       "    </tr>\n",
       "    <tr>\n",
       "      <th>min</th>\n",
       "      <td>0.000000</td>\n",
       "    </tr>\n",
       "    <tr>\n",
       "      <th>25%</th>\n",
       "      <td>0.000000</td>\n",
       "    </tr>\n",
       "    <tr>\n",
       "      <th>50%</th>\n",
       "      <td>0.020000</td>\n",
       "    </tr>\n",
       "    <tr>\n",
       "      <th>75%</th>\n",
       "      <td>0.130000</td>\n",
       "    </tr>\n",
       "    <tr>\n",
       "      <th>max</th>\n",
       "      <td>6.700000</td>\n",
       "    </tr>\n",
       "  </tbody>\n",
       "</table>\n",
       "</div>"
      ],
      "text/plain": [
       "       Precipitation\n",
       "count    2021.000000\n",
       "mean        0.177279\n",
       "std         0.461190\n",
       "min         0.000000\n",
       "25%         0.000000\n",
       "50%         0.020000\n",
       "75%         0.130000\n",
       "max         6.700000"
      ]
     },
     "execution_count": 70,
     "metadata": {},
     "output_type": "execute_result"
    }
   ],
   "source": [
    "# Use Pandas to calcualte the summary statistics for the precipitation data\n",
    "\n",
    "precip_df.describe()"
   ]
  },
  {
   "cell_type": "code",
   "execution_count": 71,
   "id": "41e37d68",
   "metadata": {},
   "outputs": [
    {
     "data": {
      "text/plain": [
       "[(9,)]"
      ]
     },
     "execution_count": 71,
     "metadata": {},
     "output_type": "execute_result"
    }
   ],
   "source": [
    "# Calculate total number of stations in the dataset\n",
    "\n",
    "session.query(func.count(Stations.station)).all()"
   ]
  },
  {
   "cell_type": "code",
   "execution_count": 72,
   "id": "e95054b6",
   "metadata": {},
   "outputs": [
    {
     "data": {
      "text/plain": [
       "[('USC00519281', 2772),\n",
       " ('USC00519397', 2724),\n",
       " ('USC00513117', 2709),\n",
       " ('USC00519523', 2669),\n",
       " ('USC00516128', 2612),\n",
       " ('USC00514830', 2202),\n",
       " ('USC00511918', 1979),\n",
       " ('USC00517948', 1372),\n",
       " ('USC00518838', 511)]"
      ]
     },
     "execution_count": 72,
     "metadata": {},
     "output_type": "execute_result"
    }
   ],
   "source": [
    "# Find the most active stations by designing a query\n",
    "# List the stations/counts in descending order.\n",
    "\n",
    "session.query(Measurements.station, func.count(Measurements.station)).\\\n",
    "    group_by(Measurements.station).order_by(func.count(Measurements.station).desc()).all()"
   ]
  },
  {
   "cell_type": "code",
   "execution_count": 73,
   "id": "48d35f82",
   "metadata": {},
   "outputs": [
    {
     "data": {
      "text/plain": [
       "[(54.0, 85.0, 71.66378066378067)]"
      ]
     },
     "execution_count": 73,
     "metadata": {},
     "output_type": "execute_result"
    }
   ],
   "source": [
    "# Calculate the lowest, highest, and average temperature Using the most active station id\n",
    "\n",
    "session.query(func.min(Measurements.tobs), func.max(Measurements.tobs), func.avg(Measurements.tobs)).\\\n",
    "    filter(Measurements.station == 'USC00519281').all()"
   ]
  },
  {
   "cell_type": "code",
   "execution_count": 77,
   "id": "b1c4b947",
   "metadata": {},
   "outputs": [
    {
     "data": {
      "text/plain": [
       "Text(0.5, -1.340000000000014, 'Temperature')"
      ]
     },
     "execution_count": 77,
     "metadata": {},
     "output_type": "execute_result"
    },
    {
     "data": {
      "image/png": "[encoded data removed]",
      "text/plain": [
       "<Figure size 432x288 with 1 Axes>"
      ]
     },
     "metadata": {},
     "output_type": "display_data"
    }
   ],
   "source": [
    " # Using the most active station id, query last 12 months of temperature data for that station\n",
    " # Plot results as a histogram using Matplotlib\n",
    "\n",
    "import datetime as dt\n",
    "from pandas.plotting import table\n",
    "prev_year = dt.date(2017, 8, 23) - dt.timedelta(days=365)\n",
    "\n",
    "results = session.query(Measurements.tobs).\\\n",
    "    filter(Measurements.station == 'USC00519281').\\\n",
    "    filter(Measurements.date >= year_previous).all()\n",
    "temp_df = pd.DataFrame(results, columns=['tobs'])\n",
    "temp_df.plot.hist(bins=12, color='lightblue')\n",
    "plt.tight_layout()\n",
    "plt.xlabel(\"Temperature\")"
   ]
  },
  {
   "cell_type": "code",
   "execution_count": 78,
   "id": "2efbe9b6",
   "metadata": {},
   "outputs": [],
   "source": [
    " # Close the session\n",
    "session.close()"
   ]
  },
  {
   "cell_type": "code",
   "execution_count": null,
   "id": "4c5f1950",
   "metadata": {},
   "outputs": [],
   "source": []
  }
 ],
 "metadata": {
  "kernelspec": {
   "display_name": "Python 3",
   "language": "python",
   "name": "python3"
  },
  "language_info": {
   "codemirror_mode": {
    "name": "ipython",
    "version": 3
   },
   "file_extension": ".py",
   "mimetype": "text/x-python",
   "name": "python",
   "nbconvert_exporter": "python",
   "pygments_lexer": "ipython3",
   "version": "3.8.8"
  }
 },
 "nbformat": 4,
 "nbformat_minor": 5
}
